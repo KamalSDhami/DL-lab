{
 "cells": [
  {
   "cell_type": "markdown",
   "id": "bab301dc-25e9-4a24-bef1-6eef6f3a5998",
   "metadata": {},
   "source": [
    "# Implementation of Loss Functions - SIGMOID in MLP"
   ]
  },
  {
   "cell_type": "code",
   "execution_count": 1,
   "id": "cf4e59cf-98db-4289-a57c-3e6b099d11db",
   "metadata": {},
   "outputs": [
    {
     "name": "stdout",
     "output_type": "stream",
     "text": [
      "[0.11920292 0.26894142 0.5        0.73105858 0.88079708]\n"
     ]
    }
   ],
   "source": [
    "import numpy as np\n",
    "\n",
    "def sigmoid(x):\n",
    "    return 1 / (1 + np.exp(-x))\n",
    "\n",
    "# Example usage\n",
    "x = np.array([-2, -1, 0, 1, 2])\n",
    "output = sigmoid(x)\n",
    "print(output)"
   ]
  },
  {
   "cell_type": "code",
   "execution_count": null,
   "id": "874a760c-8e4d-4d6d-836f-83613a9ede92",
   "metadata": {},
   "outputs": [],
   "source": []
  },
  {
   "cell_type": "code",
   "execution_count": null,
   "id": "64d46a17-43c8-4557-adc6-da1753c45382",
   "metadata": {},
   "outputs": [],
   "source": [
    "import numpy as np\n",
    "\n",
    "class Perceptron:\n",
    "    def __init__(self, input_size, learning_rate=0.1):\n",
    "        self.weights = np.random.randn(input_size)\n",
    "        self.bias = np.random.randn()\n",
    "        self.learning_rate = learning_rate\n",
    "\n",
    "    def sigmoid(self, x):\n",
    "        return 1 / (1 + np.exp(-x))\n",
    "\n",
    "    def predict(self, inputs):\n",
    "        weighted_sum = np.dot(inputs, self.weights) + self.bias\n",
    "        return self.sigmoid(weighted_sum)\n",
    "\n",
    "    def train(self, X, y, epochs=100):\n",
    "        for epoch in range(epochs):\n",
    "            for i in range(len(X)):\n",
    "                prediction = self.predict(X[i])\n",
    "                error = y[i] - prediction\n",
    "\n",
    "                # Gradient descent update rule\n",
    "                self.weights += self.learning_rate * error * prediction * (1 - prediction) * X[i]\n",
    "                self.bias += self.learning_rate * error * prediction * (1 - prediction)\n",
    "\n",
    "# Example usage\n",
    "X = np.array([[0, 0], [0, 1], [1, 0], [1, 1]])  # Inputs\n",
    "y = np.array([0, 1, 1, 0])  # XOR problem (non-linearly separable)\n",
    "\n",
    "perceptron = Perceptron(input_size=2, learning_rate=0.1)\n",
    "perceptron.train(X, y, epochs=10000)\n",
    "\n",
    "# Testing\n",
    "for i in range(len(X)):\n",
    "    print(f\"Input: {X[i]}, Predicted Output: {perceptron.predict(X[i])}\")\n"
   ]
  },
  {
   "cell_type": "code",
   "execution_count": 9,
   "id": "5edd17f4-141e-4aab-a37c-ceb42c018fd9",
   "metadata": {},
   "outputs": [],
   "source": [
    "# The perceptron takes input_size number of inputs.\n",
    "# The sigmoid activation function is used for non-linearity.\n",
    "# Weights and bias are updated using gradient descent.\n",
    "# The perceptron is trained using backpropagation.\n",
    "# The dataset used is the XOR problem, but a single-layer perceptron cannot solve XOR effectively. \n",
    "# A multi-layer perceptron (MLP) is needed for that."
   ]
  }
 ],
 "metadata": {
  "kernelspec": {
   "display_name": "Python 3 (ipykernel)",
   "language": "python",
   "name": "python3"
  },
  "language_info": {
   "codemirror_mode": {
    "name": "ipython",
    "version": 3
   },
   "file_extension": ".py",
   "mimetype": "text/x-python",
   "name": "python",
   "nbconvert_exporter": "python",
   "pygments_lexer": "ipython3",
   "version": "3.12.4"
  }
 },
 "nbformat": 4,
 "nbformat_minor": 5
}
