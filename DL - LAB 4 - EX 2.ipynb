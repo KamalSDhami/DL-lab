{
 "cells": [
  {
   "cell_type": "markdown",
   "id": "3468cdf3-d87d-4143-8278-f0ae98553dc2",
   "metadata": {},
   "source": [
    "# Implementation of Loss Functions using Libraries in python"
   ]
  },
  {
   "cell_type": "code",
   "execution_count": 5,
   "id": "63151a38-e8be-43dc-9fc9-98646ebd34de",
   "metadata": {},
   "outputs": [
    {
     "name": "stdout",
     "output_type": "stream",
     "text": [
      "MSE: 0.13749999\n",
      "MAE: 0.32500005\n",
      "Huber Loss: 0.068749994\n"
     ]
    }
   ],
   "source": [
    "import tensorflow as tf\n",
    "from tensorflow import keras\n",
    "import numpy as np\n",
    "\n",
    "# =======================\n",
    "# 1. Regression Loss Functions\n",
    "# =======================\n",
    "\n",
    "# True values and predictions\n",
    "y_true = np.array([3.0, 5.0, 7.0, 9.0])\n",
    "y_pred = np.array([2.5, 5.5, 6.8, 8.9])\n",
    "\n",
    "# Mean Squared Error (MSE)\n",
    "mse_loss = keras.losses.MeanSquaredError()\n",
    "print(\"MSE:\", mse_loss(y_true, y_pred).numpy())\n",
    "\n",
    "# Mean Absolute Error (MAE)\n",
    "mae_loss = keras.losses.MeanAbsoluteError()\n",
    "print(\"MAE:\", mae_loss(y_true, y_pred).numpy())\n",
    "\n",
    "# Huber Loss\n",
    "huber_loss = keras.losses.Huber(delta=1.0)\n",
    "print(\"Huber Loss:\", huber_loss(y_true, y_pred).numpy())\n",
    "\n"
   ]
  },
  {
   "cell_type": "code",
   "execution_count": 7,
   "id": "0c1a8088-7888-4297-b041-d7666e79399d",
   "metadata": {},
   "outputs": [
    {
     "name": "stdout",
     "output_type": "stream",
     "text": [
      "Binary Cross-Entropy: 0.16425204\n",
      "Multi-class Cross-Entropy: 0.41702998\n"
     ]
    }
   ],
   "source": [
    "\n",
    "# =======================\n",
    "# 2. Classification Loss Functions\n",
    "# =======================\n",
    "\n",
    "# Binary Cross-Entropy (BCE) - Binary Classification\n",
    "y_true_binary = np.array([1.0, 0.0, 1.0, 0.0])\n",
    "y_pred_binary = np.array([0.9, 0.2, 0.8, 0.1])\n",
    "\n",
    "bce_loss = keras.losses.BinaryCrossentropy()\n",
    "print(\"Binary Cross-Entropy:\", bce_loss(y_true_binary, y_pred_binary).numpy())\n",
    "\n",
    "# Multi-class Cross-Entropy - Multi-Class Classification\n",
    "y_true_multi = np.array([0, 2, 1])  # Class indices\n",
    "y_pred_multi = np.array([[2.0, 1.0, 0.1],\n",
    "                         [0.1, 1.0, 2.0],\n",
    "                         [1.0, 2.0, 0.1]])\n",
    "\n",
    "# Note: Use logits=True if inputs are raw logits\n",
    "cross_entropy_loss = keras.losses.SparseCategoricalCrossentropy(from_logits=True)\n",
    "print(\"Multi-class Cross-Entropy:\", cross_entropy_loss(y_true_multi, y_pred_multi).numpy())\n",
    "\n",
    "\n"
   ]
  },
  {
   "cell_type": "code",
   "execution_count": 9,
   "id": "73438a1f-91dd-4325-841b-f3f1f2332ccc",
   "metadata": {},
   "outputs": [
    {
     "name": "stdout",
     "output_type": "stream",
     "text": [
      "Contrastive Loss: 0.08499999999999999\n"
     ]
    }
   ],
   "source": [
    "\n",
    "# =======================\n",
    "# 3. Custom Loss Function Example (Contrastive Loss)\n",
    "# =======================\n",
    "\n",
    "def contrastive_loss(y_true, y_pred, margin=1.0):\n",
    "    \"\"\"Contrastive loss function.\"\"\"\n",
    "    return tf.reduce_mean((1 - y_true) * tf.square(y_pred) +\n",
    "                          y_true * tf.square(tf.maximum(margin - y_pred, 0)))\n",
    "\n",
    "y_true_contrastive = np.array([1.0, 0.0, 1.0, 0.0])\n",
    "y_pred_contrastive = np.array([0.5, 0.2, 0.8, 0.1])\n",
    "\n",
    "print(\"Contrastive Loss:\", contrastive_loss(y_true_contrastive, y_pred_contrastive).numpy())"
   ]
  },
  {
   "cell_type": "code",
   "execution_count": null,
   "id": "0fcabba4-cb4d-4079-851b-44323e948f55",
   "metadata": {},
   "outputs": [],
   "source": []
  }
 ],
 "metadata": {
  "kernelspec": {
   "display_name": "Python 3 (ipykernel)",
   "language": "python",
   "name": "python3"
  },
  "language_info": {
   "codemirror_mode": {
    "name": "ipython",
    "version": 3
   },
   "file_extension": ".py",
   "mimetype": "text/x-python",
   "name": "python",
   "nbconvert_exporter": "python",
   "pygments_lexer": "ipython3",
   "version": "3.12.4"
  }
 },
 "nbformat": 4,
 "nbformat_minor": 5
}
