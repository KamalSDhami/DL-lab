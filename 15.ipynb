{
 "cells": [
  {
   "cell_type": "code",
   "execution_count": 3,
   "id": "465b34fd",
   "metadata": {},
   "outputs": [
    {
     "name": "stdout",
     "output_type": "stream",
     "text": [
      "{'hello': 1, 'how': 2, 'are': 3, 'you': 4, 'doing': 5, 'today': 6}\n"
     ]
    }
   ],
   "source": [
    "import numpy as np\n",
    "import tensorflow as tf\n",
    "from tensorflow.keras.models import Sequential\n",
    "from tensorflow.keras.layers import SimpleRNN, Dense, Embedding\n",
    "from tensorflow.keras.preprocessing.text import Tokenizer\n",
    "from tensorflow.keras.preprocessing.sequence import pad_sequences\n",
    "\n",
    "# Input sentence\n",
    "sentence = \"hello how are you doing today\"\n",
    "\n",
    "# Tokenize sentence\n",
    "tokenizer = Tokenizer()\n",
    "tokenizer.fit_on_texts([sentence])\n",
    "word_index = tokenizer.word_index\n",
    "print(word_index)\n",
    "index_word = {v: k for k, v in word_index.items()}\n",
    "\n"
   ]
  },
  {
   "cell_type": "code",
   "execution_count": 8,
   "id": "eee0b0ae",
   "metadata": {},
   "outputs": [
    {
     "name": "stdout",
     "output_type": "stream",
     "text": [
      "[1, 2, 3, 4, 5, 6]\n",
      "[[0 0 0 0 1]\n",
      " [0 0 0 1 2]\n",
      " [0 0 1 2 3]\n",
      " [0 1 2 3 4]\n",
      " [1 2 3 4 5]]\n"
     ]
    }
   ],
   "source": [
    "# Create input-output pairs: e.g. [\"hello how\"] -> \"are\"\n",
    "tokens = tokenizer.texts_to_sequences([sentence])[0]\n",
    "print(tokens)\n",
    "X_sequences = []\n",
    "y = []\n",
    "for i in range(1, len(tokens)):\n",
    "    X_sequences.append(tokens[:i])\n",
    "    y.append(tokens[i])\n",
    "\n",
    "# Pad sequences\n",
    "max_len = max([len(x) for x in X_sequences])\n",
    "X_padded = pad_sequences(X_sequences, maxlen=max_len)\n",
    "y = tf.keras.utils.to_categorical(y, num_classes=len(word_index) + 1)\n",
    "\n",
    "\n"
   ]
  },
  {
   "cell_type": "code",
   "execution_count": null,
   "id": "c538f399",
   "metadata": {},
   "outputs": [],
   "source": [
    "# Build model\n",
    "model = Sequential()\n",
    "model.add(Embedding(input_dim=len(word_index) + 1, output_dim=10, input_length=max_len))\n",
    "model.add(SimpleRNN(64))\n",
    "model.add(Dense(len(word_index) + 1, activation='softmax'))\n",
    "\n",
    "# Compile and train\n",
    "model.compile(loss='categorical_crossentropy', optimizer='adam', metrics=['accuracy'])\n",
    "model.fit(X_padded, y, epochs=500, verbose=0)\n",
    "\n",
    "# Prediction function\n",
    "def predict_next_word(text):\n",
    "    seq = tokenizer.texts_to_sequences([text])[0]\n",
    "    seq = pad_sequences([seq], maxlen=max_len)\n",
    "    pred = model.predict(seq, verbose=0)\n",
    "    next_index = np.argmax(pred)\n",
    "    return index_word.get(next_index, \"\")\n",
    "\n",
    "# Test\n",
    "test_text = \"how are\"\n",
    "predicted_word = predict_next_word(test_text)\n",
    "print(f\"{test_text} → {predicted_word}\")"
   ]
  }
 ],
 "metadata": {
  "kernelspec": {
   "display_name": "Python 3",
   "language": "python",
   "name": "python3"
  },
  "language_info": {
   "codemirror_mode": {
    "name": "ipython",
    "version": 3
   },
   "file_extension": ".py",
   "mimetype": "text/x-python",
   "name": "python",
   "nbconvert_exporter": "python",
   "pygments_lexer": "ipython3",
   "version": "3.10.11"
  }
 },
 "nbformat": 4,
 "nbformat_minor": 5
}
