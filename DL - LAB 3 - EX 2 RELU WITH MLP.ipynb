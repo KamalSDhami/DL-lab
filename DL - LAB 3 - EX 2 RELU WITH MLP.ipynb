{
 "cells": [
  {
   "cell_type": "markdown",
   "id": "cf0e4a82-bd1d-4356-a5ae-6639135f280e",
   "metadata": {},
   "source": [
    "# Implementation of Loss Functions - RELU in MLP"
   ]
  },
  {
   "cell_type": "code",
   "execution_count": 1,
   "id": "87c3b533-518c-404d-96c4-a670a0e56fed",
   "metadata": {},
   "outputs": [
    {
     "name": "stdout",
     "output_type": "stream",
     "text": [
      "[0 0 0 1 2]\n"
     ]
    }
   ],
   "source": [
    "import numpy as np\n",
    "\n",
    "def relu(x):\n",
    "    return np.maximum(0, x)\n",
    "\n",
    "# Example usage\n",
    "x = np.array([-2, -1, 0, 1, 2])\n",
    "output = relu(x)\n",
    "print(output)\n"
   ]
  },
  {
   "cell_type": "code",
   "execution_count": null,
   "id": "95742a09-2cce-447f-a35f-dc6a579091dc",
   "metadata": {},
   "outputs": [],
   "source": [
    "# Output range: [0, ∞)\n",
    "# Introduces non-linearity while being computationally efficient.\n",
    "# Used in hidden layers of deep neural networks.\n",
    "# Avoids vanishing gradient problem compared to sigmoid/tanh."
   ]
  },
  {
   "cell_type": "code",
   "execution_count": 3,
   "id": "5573bdff-c7e3-424c-a766-4db8dc4c5b01",
   "metadata": {},
   "outputs": [
    {
     "name": "stdout",
     "output_type": "stream",
     "text": [
      "Input: [0 0], Predicted Output: 0.0\n",
      "Input: [0 1], Predicted Output: 0.0\n",
      "Input: [1 0], Predicted Output: 0.0\n",
      "Input: [1 1], Predicted Output: 0.0\n"
     ]
    }
   ],
   "source": [
    "import numpy as np\n",
    "\n",
    "class Perceptron:\n",
    "    def __init__(self, input_size, learning_rate=0.1):\n",
    "        self.weights = np.random.randn(input_size)\n",
    "        self.bias = np.random.randn()\n",
    "        self.learning_rate = learning_rate\n",
    "\n",
    "    def relu(self, x):\n",
    "        return np.maximum(0, x)\n",
    "\n",
    "    def relu_derivative(self, x):\n",
    "        return np.where(x > 0, 1, 0)  # Derivative of ReLU\n",
    "\n",
    "    def predict(self, inputs):\n",
    "        weighted_sum = np.dot(inputs, self.weights) + self.bias\n",
    "        return self.relu(weighted_sum)\n",
    "\n",
    "    def train(self, X, y, epochs=100):\n",
    "        for epoch in range(epochs):\n",
    "            for i in range(len(X)):\n",
    "                weighted_sum = np.dot(X[i], self.weights) + self.bias\n",
    "                prediction = self.relu(weighted_sum)\n",
    "                error = y[i] - prediction\n",
    "\n",
    "                # Gradient descent update rule\n",
    "                delta = error * self.relu_derivative(weighted_sum)\n",
    "                self.weights += self.learning_rate * delta * X[i]\n",
    "                self.bias += self.learning_rate * delta\n",
    "\n",
    "# Example usage\n",
    "X = np.array([[0, 0], [0, 1], [1, 0], [1, 1]])  # Inputs\n",
    "y = np.array([0, 1, 1, 0])  # XOR problem (not solvable with a single-layer perceptron)\n",
    "\n",
    "perceptron = Perceptron(input_size=2, learning_rate=0.1)\n",
    "perceptron.train(X, y, epochs=10000)\n",
    "\n",
    "# Testing\n",
    "for i in range(len(X)):\n",
    "    print(f\"Input: {X[i]}, Predicted Output: {perceptron.predict(X[i])}\")\n"
   ]
  },
  {
   "cell_type": "code",
   "execution_count": null,
   "id": "854609b2-3f40-4a5b-bef8-9930e1f6e14b",
   "metadata": {},
   "outputs": [],
   "source": [
    "#  ReLU Activation Function: Used instead of sigmoid/tanh for non-linearity.\n",
    "#  Derivative of ReLU: Helps with weight updates during training.\n",
    "#  Gradient Descent Updates: Adjusts weights and bias based on error and ReLU derivative.\n",
    "#  Limitation: A single-layer perceptron cannot solve XOR (a multi-layer perceptron is needed)."
   ]
  },
  {
   "cell_type": "code",
   "execution_count": 5,
   "id": "ce66cb52-4f8f-4a76-86cf-05891b5bb551",
   "metadata": {},
   "outputs": [
    {
     "name": "stdout",
     "output_type": "stream",
     "text": [
      "Input: [0 0], Predicted Output: [0.]\n",
      "Input: [0 1], Predicted Output: [0.]\n",
      "Input: [1 0], Predicted Output: [0.]\n",
      "Input: [1 1], Predicted Output: [0.]\n"
     ]
    }
   ],
   "source": [
    "import numpy as np\n",
    "\n",
    "class MLP:\n",
    "    def __init__(self, input_size, hidden_size, output_size, learning_rate=0.1):\n",
    "        # Initialize weights and biases\n",
    "        self.W1 = np.random.randn(input_size, hidden_size)  # Input -> Hidden weights\n",
    "        self.b1 = np.random.randn(hidden_size)  # Hidden layer bias\n",
    "        self.W2 = np.random.randn(hidden_size, output_size)  # Hidden -> Output weights\n",
    "        self.b2 = np.random.randn(output_size)  # Output layer bias\n",
    "        self.learning_rate = learning_rate\n",
    "\n",
    "    def relu(self, x):\n",
    "        return np.maximum(0, x)\n",
    "\n",
    "    def relu_derivative(self, x):\n",
    "        return np.where(x > 0, 1, 0)\n",
    "\n",
    "    def predict(self, inputs):\n",
    "        # Forward pass\n",
    "        self.hidden_input = np.dot(inputs, self.W1) + self.b1\n",
    "        self.hidden_output = self.relu(self.hidden_input)\n",
    "        self.final_input = np.dot(self.hidden_output, self.W2) + self.b2\n",
    "        self.final_output = self.relu(self.final_input)\n",
    "        return self.final_output\n",
    "\n",
    "    def train(self, X, y, epochs=10000):\n",
    "        for epoch in range(epochs):\n",
    "            for i in range(len(X)):\n",
    "                # Forward pass\n",
    "                hidden_input = np.dot(X[i], self.W1) + self.b1\n",
    "                hidden_output = self.relu(hidden_input)\n",
    "                final_input = np.dot(hidden_output, self.W2) + self.b2\n",
    "                final_output = self.relu(final_input)\n",
    "\n",
    "                # Compute error\n",
    "                error = y[i] - final_output\n",
    "\n",
    "                # Backpropagation\n",
    "                d_output = error * self.relu_derivative(final_input)\n",
    "                d_hidden = np.dot(d_output, self.W2.T) * self.relu_derivative(hidden_input)\n",
    "\n",
    "                # Update weights and biases\n",
    "                self.W2 += self.learning_rate * np.outer(hidden_output, d_output)\n",
    "                self.b2 += self.learning_rate * d_output\n",
    "                self.W1 += self.learning_rate * np.outer(X[i], d_hidden)\n",
    "                self.b1 += self.learning_rate * d_hidden\n",
    "\n",
    "# Example usage (XOR problem)\n",
    "X = np.array([[0, 0], [0, 1], [1, 0], [1, 1]])  # Inputs\n",
    "y = np.array([[0], [1], [1], [0]])  # XOR outputs\n",
    "\n",
    "mlp = MLP(input_size=2, hidden_size=4, output_size=1, learning_rate=0.1)\n",
    "mlp.train(X, y, epochs=10000)\n",
    "\n",
    "# Testing\n",
    "for i in range(len(X)):\n",
    "    print(f\"Input: {X[i]}, Predicted Output: {mlp.predict(X[i])}\")\n"
   ]
  },
  {
   "cell_type": "code",
   "execution_count": null,
   "id": "8f5bb406-21d6-46fe-ab55-34ec44963721",
   "metadata": {},
   "outputs": [],
   "source": [
    "# Multi-Layer Structure:\n",
    "# Input Layer (2 neurons) → Hidden Layer (4 neurons, ReLU activation) → Output Layer (1 neuron, ReLU activation)\n",
    "# Forward Pass:\n",
    "# Compute hidden layer activations using ReLU.\n",
    "# Compute output layer activations using ReLU.\n",
    "# Backpropagation:\n",
    "# Compute errors and apply gradient descent to update weights and biases.\n",
    "# Training on XOR problem:\n",
    "# Unlike a single-layer perceptron, this MLP can solve XOR due to the hidden layer."
   ]
  }
 ],
 "metadata": {
  "kernelspec": {
   "display_name": "Python 3 (ipykernel)",
   "language": "python",
   "name": "python3"
  },
  "language_info": {
   "codemirror_mode": {
    "name": "ipython",
    "version": 3
   },
   "file_extension": ".py",
   "mimetype": "text/x-python",
   "name": "python",
   "nbconvert_exporter": "python",
   "pygments_lexer": "ipython3",
   "version": "3.12.4"
  }
 },
 "nbformat": 4,
 "nbformat_minor": 5
}
