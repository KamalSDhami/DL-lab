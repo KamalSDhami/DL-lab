{
 "cells": [
  {
   "cell_type": "code",
   "execution_count": 4,
   "id": "3ed09be2",
   "metadata": {},
   "outputs": [],
   "source": [
    "import numpy as np\n",
    "from tensorflow.keras.preprocessing.text import Tokenizer\n",
    "from tensorflow.keras.preprocessing.sequence import pad_sequences\n",
    "from tensorflow.keras.models import Sequential\n",
    "from tensorflow.keras.layers import LSTM, Embedding, Dense\n",
    "import tensorflow as tf\n",
    "\n",
    "# A larger corpus\n",
    "corpus = \"\"\"\n",
    "Artificial intelligence is the simulation of human intelligence processes by machines,\n",
    "especially computer systems. These processes include learning, reasoning, and self-correction.\n",
    "AI is becoming a key component of modern technology, from voice assistants to autonomous vehicles.\n",
    "\"\"\"\n",
    "\n",
    "# Step 1: Tokenize the corpus\n",
    "tokenizer = Tokenizer()\n",
    "tokenizer.fit_on_texts([corpus])\n",
    "word_index = tokenizer.word_index\n",
    "total_words = len(word_index) + 1\n",
    "\n",
    "# Step 2: Create input sequences\n",
    "input_sequences = []\n",
    "token_list = tokenizer.texts_to_sequences([corpus])[0]\n",
    "\n",
    "n_steps = 3  # Use 3 previous words to predict next\n",
    "for i in range(n_steps, len(token_list)):\n",
    "    n_gram_seq = token_list[i-n_steps:i+1]\n",
    "    input_sequences.append(n_gram_seq)\n",
    "\n",
    "input_sequences = np.array(input_sequences)\n",
    "\n",
    "# Step 3: Split into X and y\n",
    "X, y = input_sequences[:, :-1], input_sequences[:, -1]\n",
    "y = tf.keras.utils.to_categorical(y, num_classes=total_words)\n",
    "\n"
   ]
  },
  {
   "cell_type": "code",
   "execution_count": 5,
   "id": "deffa996",
   "metadata": {},
   "outputs": [
    {
     "data": {
      "text/plain": [
       "<keras.callbacks.History at 0x23dc5d65510>"
      ]
     },
     "execution_count": 5,
     "metadata": {},
     "output_type": "execute_result"
    }
   ],
   "source": [
    "\n",
    "# Step 4: Build LSTM model\n",
    "model = Sequential()\n",
    "model.add(Embedding(total_words, 64, input_length=n_steps))\n",
    "model.add(LSTM(100))\n",
    "model.add(Dense(total_words, activation='softmax'))\n",
    "model.compile(loss='categorical_crossentropy', optimizer='adam', metrics=['accuracy'])\n",
    "\n",
    "# Step 5: Train the model\n",
    "model.fit(X, y, epochs=300, verbose=0)\n",
    "\n",
    "# Step 6: Predict next word\n"
   ]
  },
  {
   "cell_type": "code",
   "execution_count": null,
   "id": "662193c1",
   "metadata": {},
   "outputs": [
    {
     "name": "stdout",
     "output_type": "stream",
     "text": [
      "dict_items([('intelligence', 1), ('is', 2), ('of', 3), ('processes', 4), ('artificial', 5), ('the', 6), ('simulation', 7), ('human', 8), ('by', 9), ('machines', 10), ('especially', 11), ('computer', 12), ('systems', 13), ('these', 14), ('include', 15), ('learning', 16), ('reasoning', 17), ('and', 18), ('self', 19), ('correction', 20), ('ai', 21), ('becoming', 22), ('a', 23), ('key', 24), ('component', 25), ('modern', 26), ('technology', 27), ('from', 28), ('voice', 29), ('assistants', 30), ('to', 31), ('autonomous', 32), ('vehicles', 33)])\n",
      "--------------------\n",
      "{1: 'intelligence', 2: 'is', 3: 'of', 4: 'processes', 5: 'artificial', 6: 'the', 7: 'simulation', 8: 'human', 9: 'by', 10: 'machines', 11: 'especially', 12: 'computer', 13: 'systems', 14: 'these', 15: 'include', 16: 'learning', 17: 'reasoning', 18: 'and', 19: 'self', 20: 'correction', 21: 'ai', 22: 'becoming', 23: 'a', 24: 'key', 25: 'component', 26: 'modern', 27: 'technology', 28: 'from', 29: 'voice', 30: 'assistants', 31: 'to', 32: 'autonomous', 33: 'vehicles'}\n",
      "artificial intelligence is → the\n"
     ]
    }
   ],
   "source": [
    "reverse_word_map = dict(map(reversed, tokenizer.word_index.items()))\n",
    "def predict_next_word(input_text):\n",
    "    seq = tokenizer.texts_to_sequences([input_text])[0]\n",
    "    seq = pad_sequences([seq], maxlen=n_steps)\n",
    "    pred = model.predict(seq, verbose=0)\n",
    "    next_index = np.argmax(pred)\n",
    "    return reverse_word_map.get(next_index, \"\")\n",
    "\n",
    "# Test\n",
    "seed_text = \"artificial intelligence is\"\n",
    "predicted = predict_next_word(seed_text)\n",
    "print(f\"{seed_text} → {predicted}\")"
   ]
  },
  {
   "cell_type": "code",
   "execution_count": null,
   "id": "5eda7ce4",
   "metadata": {},
   "outputs": [],
   "source": []
  }
 ],
 "metadata": {
  "kernelspec": {
   "display_name": "Python 3",
   "language": "python",
   "name": "python3"
  },
  "language_info": {
   "codemirror_mode": {
    "name": "ipython",
    "version": 3
   },
   "file_extension": ".py",
   "mimetype": "text/x-python",
   "name": "python",
   "nbconvert_exporter": "python",
   "pygments_lexer": "ipython3",
   "version": "3.10.11"
  }
 },
 "nbformat": 4,
 "nbformat_minor": 5
}
