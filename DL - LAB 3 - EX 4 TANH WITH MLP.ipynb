{
 "cells": [
  {
   "cell_type": "markdown",
   "id": "723a4c71-b7ad-4d61-b8de-955225e531e9",
   "metadata": {},
   "source": [
    "# Implementation of Loss Functions - TANH in MLP"
   ]
  },
  {
   "cell_type": "code",
   "execution_count": 1,
   "id": "58d69225-312f-4b32-894e-8ca4d5be4479",
   "metadata": {},
   "outputs": [
    {
     "name": "stdout",
     "output_type": "stream",
     "text": [
      "[-0.96402758 -0.76159416  0.          0.76159416  0.96402758]\n"
     ]
    }
   ],
   "source": [
    "import numpy as np\n",
    "\n",
    "def tanh(x):\n",
    "    return np.tanh(x)\n",
    "\n",
    "# Example usage\n",
    "x = np.array([-2, -1, 0, 1, 2])\n",
    "output = tanh(x)\n",
    "print(output)\n"
   ]
  },
  {
   "cell_type": "code",
   "execution_count": null,
   "id": "325ef1c9-5d4a-437e-a791-668d72958e55",
   "metadata": {},
   "outputs": [],
   "source": [
    "# Output range: (-1, 1)\n",
    "# Centered around zero (unlike sigmoid, which is between 0 and 1)\n",
    "# Used commonly in hidden layers of neural networks to allow negative values"
   ]
  },
  {
   "cell_type": "code",
   "execution_count": 3,
   "id": "7a966f53-a744-47ab-a4b5-9bdfc70c70b4",
   "metadata": {},
   "outputs": [
    {
     "name": "stdout",
     "output_type": "stream",
     "text": [
      "Input: [0 0], Predicted Output: 0.5452683548233778\n",
      "Input: [0 1], Predicted Output: 0.5157723510010375\n",
      "Input: [1 0], Predicted Output: 0.4850007370944645\n",
      "Input: [1 1], Predicted Output: 0.452979355001866\n"
     ]
    }
   ],
   "source": [
    "import numpy as np\n",
    "\n",
    "class Perceptron:\n",
    "    def __init__(self, input_size, learning_rate=0.1):\n",
    "        self.weights = np.random.randn(input_size)\n",
    "        self.bias = np.random.randn()\n",
    "        self.learning_rate = learning_rate\n",
    "\n",
    "    def tanh(self, x):\n",
    "        return np.tanh(x)\n",
    "\n",
    "    def tanh_derivative(self, x):\n",
    "        return 1 - np.tanh(x) ** 2  # Derivative of tanh function\n",
    "\n",
    "    def predict(self, inputs):\n",
    "        weighted_sum = np.dot(inputs, self.weights) + self.bias\n",
    "        return self.tanh(weighted_sum)\n",
    "\n",
    "    def train(self, X, y, epochs=100):\n",
    "        for epoch in range(epochs):\n",
    "            for i in range(len(X)):\n",
    "                prediction = self.predict(X[i])\n",
    "                error = y[i] - prediction\n",
    "\n",
    "                # Gradient descent update rule\n",
    "                delta = error * self.tanh_derivative(prediction)\n",
    "                self.weights += self.learning_rate * delta * X[i]\n",
    "                self.bias += self.learning_rate * delta\n",
    "\n",
    "# Example usage\n",
    "X = np.array([[0, 0], [0, 1], [1, 0], [1, 1]])  # Inputs\n",
    "y = np.array([0, 1, 1, 0])  # XOR problem (non-linearly separable)\n",
    "\n",
    "perceptron = Perceptron(input_size=2, learning_rate=0.1)\n",
    "perceptron.train(X, y, epochs=10000)\n",
    "\n",
    "# Testing\n",
    "for i in range(len(X)):\n",
    "    print(f\"Input: {X[i]}, Predicted Output: {perceptron.predict(X[i])}\")\n"
   ]
  },
  {
   "cell_type": "code",
   "execution_count": null,
   "id": "eb977e17-6efe-4540-8a98-479b7ea1ed22",
   "metadata": {},
   "outputs": [],
   "source": [
    "# tanh Activation Function: Used instead of sigmoid for better gradient flow.\n",
    "# Derivative of tanh: Required for backpropagation updates.\n",
    "# Training with Gradient Descent: Updates weights based on error and activation derivative.\n",
    "# Limitations: A single-layer perceptron cannot solve the XOR problem effectively. \n",
    "# A multi-layer perceptron (MLP) is needed."
   ]
  }
 ],
 "metadata": {
  "kernelspec": {
   "display_name": "Python 3 (ipykernel)",
   "language": "python",
   "name": "python3"
  },
  "language_info": {
   "codemirror_mode": {
    "name": "ipython",
    "version": 3
   },
   "file_extension": ".py",
   "mimetype": "text/x-python",
   "name": "python",
   "nbconvert_exporter": "python",
   "pygments_lexer": "ipython3",
   "version": "3.12.4"
  }
 },
 "nbformat": 4,
 "nbformat_minor": 5
}
